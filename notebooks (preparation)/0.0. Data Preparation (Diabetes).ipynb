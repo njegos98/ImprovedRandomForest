{
 "cells": [
  {
   "cell_type": "markdown",
   "id": "54155d34",
   "metadata": {},
   "source": [
    "## --- 0.0. Libraries importing ---"
   ]
  },
  {
   "cell_type": "code",
   "execution_count": 1,
   "id": "b9d63321",
   "metadata": {},
   "outputs": [
    {
     "data": {
      "text/html": [
       "<style>.container { width:100% !important; }</style>"
      ],
      "text/plain": [
       "<IPython.core.display.HTML object>"
      ]
     },
     "metadata": {},
     "output_type": "display_data"
    }
   ],
   "source": [
    "# ignore warnings\n",
    "import warnings\n",
    "warnings.filterwarnings(\"ignore\")\n",
    "\n",
    "# set notebook width to 100%\n",
    "from IPython.core.display import display, HTML\n",
    "display(HTML(\"<style>.container { width:100% !important; }</style>\"))\n",
    "\n",
    "# dataframe manipulation\n",
    "import numpy as np\n",
    "import pandas as pd\n",
    "pd.set_option('display.max_rows', None)\n",
    "pd.set_option('display.max_columns', None)\n",
    "\n",
    "# train test split\n",
    "from sklearn.model_selection import train_test_split\n",
    "\n",
    "# Path\n",
    "import os \n",
    "from pathlib import Path\n",
    "os.chdir(Path(os.getcwd()).parent)"
   ]
  },
  {
   "cell_type": "markdown",
   "id": "3783f3a5",
   "metadata": {},
   "source": [
    "## --- 0.1. Parameters ---"
   ]
  },
  {
   "cell_type": "markdown",
   "id": "d02da777",
   "metadata": {},
   "source": [
    "### ------ 0.1.1. Independent parameters ------"
   ]
  },
  {
   "cell_type": "code",
   "execution_count": 2,
   "id": "0c45dc00",
   "metadata": {},
   "outputs": [],
   "source": [
    "file_name = 'diabetes_prediction_dataset'\n",
    "uc_name = 'diabetes'\n",
    "\n",
    "target_column = 'diabetes'\n",
    "seed = 100\n",
    "test_size = 0.3"
   ]
  },
  {
   "cell_type": "markdown",
   "id": "27657c37",
   "metadata": {},
   "source": [
    "# 1. Data Loading"
   ]
  },
  {
   "cell_type": "code",
   "execution_count": 3,
   "id": "22fb227c",
   "metadata": {},
   "outputs": [
    {
     "data": {
      "text/html": [
       "<div>\n",
       "<style scoped>\n",
       "    .dataframe tbody tr th:only-of-type {\n",
       "        vertical-align: middle;\n",
       "    }\n",
       "\n",
       "    .dataframe tbody tr th {\n",
       "        vertical-align: top;\n",
       "    }\n",
       "\n",
       "    .dataframe thead th {\n",
       "        text-align: right;\n",
       "    }\n",
       "</style>\n",
       "<table border=\"1\" class=\"dataframe\">\n",
       "  <thead>\n",
       "    <tr style=\"text-align: right;\">\n",
       "      <th></th>\n",
       "      <th>gender</th>\n",
       "      <th>age</th>\n",
       "      <th>hypertension</th>\n",
       "      <th>heart_disease</th>\n",
       "      <th>smoking_history</th>\n",
       "      <th>bmi</th>\n",
       "      <th>HbA1c_level</th>\n",
       "      <th>blood_glucose_level</th>\n",
       "      <th>diabetes</th>\n",
       "    </tr>\n",
       "  </thead>\n",
       "  <tbody>\n",
       "    <tr>\n",
       "      <th>0</th>\n",
       "      <td>Male</td>\n",
       "      <td>43.0</td>\n",
       "      <td>No</td>\n",
       "      <td>No</td>\n",
       "      <td>never</td>\n",
       "      <td>40.43</td>\n",
       "      <td>4.8</td>\n",
       "      <td>145</td>\n",
       "      <td>0</td>\n",
       "    </tr>\n",
       "    <tr>\n",
       "      <th>1</th>\n",
       "      <td>Female</td>\n",
       "      <td>30.0</td>\n",
       "      <td>Yes</td>\n",
       "      <td>No</td>\n",
       "      <td>current</td>\n",
       "      <td>31.00</td>\n",
       "      <td>5.7</td>\n",
       "      <td>200</td>\n",
       "      <td>0</td>\n",
       "    </tr>\n",
       "    <tr>\n",
       "      <th>2</th>\n",
       "      <td>Male</td>\n",
       "      <td>45.0</td>\n",
       "      <td>No</td>\n",
       "      <td>No</td>\n",
       "      <td>ever</td>\n",
       "      <td>27.47</td>\n",
       "      <td>5.8</td>\n",
       "      <td>126</td>\n",
       "      <td>0</td>\n",
       "    </tr>\n",
       "    <tr>\n",
       "      <th>3</th>\n",
       "      <td>Male</td>\n",
       "      <td>58.0</td>\n",
       "      <td>No</td>\n",
       "      <td>Yes</td>\n",
       "      <td>No Info</td>\n",
       "      <td>29.05</td>\n",
       "      <td>6.5</td>\n",
       "      <td>159</td>\n",
       "      <td>0</td>\n",
       "    </tr>\n",
       "    <tr>\n",
       "      <th>4</th>\n",
       "      <td>Male</td>\n",
       "      <td>8.0</td>\n",
       "      <td>No</td>\n",
       "      <td>No</td>\n",
       "      <td>never</td>\n",
       "      <td>18.53</td>\n",
       "      <td>6.6</td>\n",
       "      <td>159</td>\n",
       "      <td>0</td>\n",
       "    </tr>\n",
       "  </tbody>\n",
       "</table>\n",
       "</div>"
      ],
      "text/plain": [
       "   gender   age hypertension heart_disease smoking_history    bmi  \\\n",
       "0    Male  43.0           No            No           never  40.43   \n",
       "1  Female  30.0          Yes            No         current  31.00   \n",
       "2    Male  45.0           No            No            ever  27.47   \n",
       "3    Male  58.0           No           Yes         No Info  29.05   \n",
       "4    Male   8.0           No            No           never  18.53   \n",
       "\n",
       "   HbA1c_level  blood_glucose_level  diabetes  \n",
       "0          4.8                  145         0  \n",
       "1          5.7                  200         0  \n",
       "2          5.8                  126         0  \n",
       "3          6.5                  159         0  \n",
       "4          6.6                  159         0  "
      ]
     },
     "metadata": {},
     "output_type": "display_data"
    },
    {
     "name": "stdout",
     "output_type": "stream",
     "text": [
      "Shape of the data: (10000, 9).\n"
     ]
    }
   ],
   "source": [
    "df = (pd\n",
    "      .read_csv(f'data/raw_data/{file_name}.csv',\n",
    "                  low_memory=False)\n",
    "     )\n",
    "\n",
    "(\n",
    "    df['hypertension']\n",
    "    .replace(to_replace={0:'No', 1:'Yes'},\n",
    "             inplace=True)\n",
    ")\n",
    "\n",
    "(\n",
    "    df['heart_disease']\n",
    "    .replace(to_replace={0:'No', 1:'Yes'},\n",
    "             inplace=True)\n",
    ")\n",
    "\n",
    "display(df.head())\n",
    "print(f\"Shape of the data: {df.shape}.\")"
   ]
  },
  {
   "cell_type": "markdown",
   "id": "504fa06e",
   "metadata": {},
   "source": [
    "# 2. Data Transformation"
   ]
  },
  {
   "cell_type": "code",
   "execution_count": 4,
   "id": "4eebbaa2",
   "metadata": {},
   "outputs": [
    {
     "data": {
      "text/html": [
       "<div>\n",
       "<style scoped>\n",
       "    .dataframe tbody tr th:only-of-type {\n",
       "        vertical-align: middle;\n",
       "    }\n",
       "\n",
       "    .dataframe tbody tr th {\n",
       "        vertical-align: top;\n",
       "    }\n",
       "\n",
       "    .dataframe thead th {\n",
       "        text-align: right;\n",
       "    }\n",
       "</style>\n",
       "<table border=\"1\" class=\"dataframe\">\n",
       "  <thead>\n",
       "    <tr style=\"text-align: right;\">\n",
       "      <th></th>\n",
       "      <th>gender</th>\n",
       "      <th>age</th>\n",
       "      <th>hypertension</th>\n",
       "      <th>heart_disease</th>\n",
       "      <th>smoking_history</th>\n",
       "      <th>bmi</th>\n",
       "      <th>HbA1c_level</th>\n",
       "      <th>blood_glucose_level</th>\n",
       "      <th>diabetes</th>\n",
       "    </tr>\n",
       "  </thead>\n",
       "  <tbody>\n",
       "    <tr>\n",
       "      <th>0</th>\n",
       "      <td>Male</td>\n",
       "      <td>43.0</td>\n",
       "      <td>No</td>\n",
       "      <td>No</td>\n",
       "      <td>never</td>\n",
       "      <td>40.43</td>\n",
       "      <td>4.8</td>\n",
       "      <td>145</td>\n",
       "      <td>0</td>\n",
       "    </tr>\n",
       "    <tr>\n",
       "      <th>1</th>\n",
       "      <td>Female</td>\n",
       "      <td>30.0</td>\n",
       "      <td>Yes</td>\n",
       "      <td>No</td>\n",
       "      <td>current</td>\n",
       "      <td>31.00</td>\n",
       "      <td>5.7</td>\n",
       "      <td>200</td>\n",
       "      <td>0</td>\n",
       "    </tr>\n",
       "    <tr>\n",
       "      <th>2</th>\n",
       "      <td>Male</td>\n",
       "      <td>45.0</td>\n",
       "      <td>No</td>\n",
       "      <td>No</td>\n",
       "      <td>ever</td>\n",
       "      <td>27.47</td>\n",
       "      <td>5.8</td>\n",
       "      <td>126</td>\n",
       "      <td>0</td>\n",
       "    </tr>\n",
       "    <tr>\n",
       "      <th>3</th>\n",
       "      <td>Male</td>\n",
       "      <td>58.0</td>\n",
       "      <td>No</td>\n",
       "      <td>Yes</td>\n",
       "      <td>no info</td>\n",
       "      <td>29.05</td>\n",
       "      <td>6.5</td>\n",
       "      <td>159</td>\n",
       "      <td>0</td>\n",
       "    </tr>\n",
       "    <tr>\n",
       "      <th>4</th>\n",
       "      <td>Male</td>\n",
       "      <td>8.0</td>\n",
       "      <td>No</td>\n",
       "      <td>No</td>\n",
       "      <td>never</td>\n",
       "      <td>18.53</td>\n",
       "      <td>6.6</td>\n",
       "      <td>159</td>\n",
       "      <td>0</td>\n",
       "    </tr>\n",
       "  </tbody>\n",
       "</table>\n",
       "</div>"
      ],
      "text/plain": [
       "   gender   age hypertension heart_disease smoking_history    bmi  \\\n",
       "0    Male  43.0           No            No           never  40.43   \n",
       "1  Female  30.0          Yes            No         current  31.00   \n",
       "2    Male  45.0           No            No            ever  27.47   \n",
       "3    Male  58.0           No           Yes         no info  29.05   \n",
       "4    Male   8.0           No            No           never  18.53   \n",
       "\n",
       "   HbA1c_level  blood_glucose_level  diabetes  \n",
       "0          4.8                  145         0  \n",
       "1          5.7                  200         0  \n",
       "2          5.8                  126         0  \n",
       "3          6.5                  159         0  \n",
       "4          6.6                  159         0  "
      ]
     },
     "metadata": {},
     "output_type": "display_data"
    },
    {
     "name": "stdout",
     "output_type": "stream",
     "text": [
      "Shape of the data: (9999, 9).\n"
     ]
    }
   ],
   "source": [
    "df = (df\n",
    "      .query(f\"gender in ('Male', 'Female')\")\n",
    "      .reset_index(drop=True)\n",
    "     )\n",
    "\n",
    "df['smoking_history'] = (pd\n",
    "                         .Series(np\n",
    "                                 .where(df['smoking_history'].isin(['former', 'not current', 'ever']),\n",
    "                                        'ever',\n",
    "                                        df['smoking_history'])\n",
    "                                )\n",
    "                         .replace(to_replace={'No Info': 'no info'})\n",
    "                        )\n",
    "\n",
    "display(df.head())\n",
    "print(f\"Shape of the data: {df.shape}.\")"
   ]
  },
  {
   "cell_type": "markdown",
   "id": "1d7aba9c",
   "metadata": {},
   "source": [
    "# 3. Train/Test Split"
   ]
  },
  {
   "cell_type": "code",
   "execution_count": 5,
   "id": "2c2f2fd0",
   "metadata": {},
   "outputs": [
    {
     "name": "stdout",
     "output_type": "stream",
     "text": [
      "Shape -> X_train: (6999, 8), y_train: (6999,).\n",
      "Shape -> X_test: (3000, 8), y_test: (3000,).\n"
     ]
    }
   ],
   "source": [
    "X = df.drop(columns=target_column,\n",
    "            axis=1)\n",
    "\n",
    "y = df[target_column].copy()\n",
    "\n",
    "X_train, X_test, y_train, y_test = train_test_split(X,\n",
    "                                                    y,\n",
    "                                                    test_size=test_size,\n",
    "                                                    random_state=seed,\n",
    "                                                    stratify=y)\n",
    "\n",
    "X_train, X_test, y_train, y_test = (\n",
    "                                        X_train.reset_index(drop=True),\n",
    "                                        X_test.reset_index(drop=True),\n",
    "                                        y_train.reset_index(drop=True),\n",
    "                                        y_test.reset_index(drop=True)\n",
    "                                    )\n",
    "\n",
    "print(f\"Shape -> X_train: {X_train.shape}, y_train: {y_train.shape}.\")\n",
    "print(f\"Shape -> X_test: {X_test.shape}, y_test: {y_test.shape}.\")"
   ]
  },
  {
   "cell_type": "markdown",
   "id": "97fb0957",
   "metadata": {},
   "source": [
    "# 4. Save Prepared Data"
   ]
  },
  {
   "cell_type": "code",
   "execution_count": 6,
   "id": "eaae8f7b",
   "metadata": {},
   "outputs": [
    {
     "name": "stdout",
     "output_type": "stream",
     "text": [
      "X_train.csv is successfully saved!\n",
      "y_train.csv is successfully saved!\n",
      "X_test.csv is successfully saved!\n",
      "y_test.csv is successfully saved!\n"
     ]
    }
   ],
   "source": [
    "(\n",
    "    X_train\n",
    "    .to_csv(f'data/prepared_data/{uc_name}/X_train.csv',\n",
    "            index=False)\n",
    ")\n",
    "\n",
    "print(\"X_train.csv is successfully saved!\")\n",
    "\n",
    "(\n",
    "    y_train\n",
    "    .to_csv(f'data/prepared_data/{uc_name}/y_train.csv',\n",
    "            index=False)\n",
    ")\n",
    "\n",
    "print(\"y_train.csv is successfully saved!\")\n",
    "\n",
    "(\n",
    "    X_test\n",
    "    .to_csv(f'data/prepared_data/{uc_name}/X_test.csv',\n",
    "            index=False)\n",
    ")\n",
    "\n",
    "print(\"X_test.csv is successfully saved!\")\n",
    "\n",
    "(\n",
    "    y_test\n",
    "    .to_csv(f'data/prepared_data/{uc_name}/y_test.csv',\n",
    "            index=False)\n",
    ")\n",
    "\n",
    "print(\"y_test.csv is successfully saved!\")"
   ]
  }
 ],
 "metadata": {
  "kernelspec": {
   "display_name": "Python 3 (ipykernel)",
   "language": "python",
   "name": "python3"
  },
  "language_info": {
   "codemirror_mode": {
    "name": "ipython",
    "version": 3
   },
   "file_extension": ".py",
   "mimetype": "text/x-python",
   "name": "python",
   "nbconvert_exporter": "python",
   "pygments_lexer": "ipython3",
   "version": "3.10.9"
  }
 },
 "nbformat": 4,
 "nbformat_minor": 5
}
