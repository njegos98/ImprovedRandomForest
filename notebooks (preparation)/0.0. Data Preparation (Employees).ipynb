{
 "cells": [
  {
   "cell_type": "markdown",
   "id": "54155d34",
   "metadata": {},
   "source": [
    "## --- 0.0. Libraries importing ---"
   ]
  },
  {
   "cell_type": "code",
   "execution_count": 1,
   "id": "b9d63321",
   "metadata": {},
   "outputs": [
    {
     "data": {
      "text/html": [
       "<style>.container { width:100% !important; }</style>"
      ],
      "text/plain": [
       "<IPython.core.display.HTML object>"
      ]
     },
     "metadata": {},
     "output_type": "display_data"
    }
   ],
   "source": [
    "# ignore warnings\n",
    "import warnings\n",
    "warnings.filterwarnings(\"ignore\")\n",
    "\n",
    "# set notebook width to 100%\n",
    "from IPython.core.display import display, HTML\n",
    "display(HTML(\"<style>.container { width:100% !important; }</style>\"))\n",
    "\n",
    "# dataframe manipulation\n",
    "import numpy as np\n",
    "import pandas as pd\n",
    "pd.set_option('display.max_rows', None)\n",
    "pd.set_option('display.max_columns', None)\n",
    "\n",
    "# train test split\n",
    "from sklearn.model_selection import train_test_split\n",
    "\n",
    "# Path\n",
    "import os \n",
    "from pathlib import Path\n",
    "os.chdir(Path(os.getcwd()).parent)"
   ]
  },
  {
   "cell_type": "markdown",
   "id": "3783f3a5",
   "metadata": {},
   "source": [
    "## --- 0.1. Parameters ---"
   ]
  },
  {
   "cell_type": "markdown",
   "id": "d02da777",
   "metadata": {},
   "source": [
    "### ------ 0.1.1. Independent parameters ------"
   ]
  },
  {
   "cell_type": "code",
   "execution_count": 2,
   "id": "0c45dc00",
   "metadata": {},
   "outputs": [],
   "source": [
    "file_name = 'Employee'\n",
    "uc_name = 'employees'\n",
    "\n",
    "target_column = 'LeaveOrNot'\n",
    "seed = 1999\n",
    "test_size = 0.3"
   ]
  },
  {
   "cell_type": "markdown",
   "id": "27657c37",
   "metadata": {},
   "source": [
    "# 1. Data Loading"
   ]
  },
  {
   "cell_type": "code",
   "execution_count": 3,
   "id": "22fb227c",
   "metadata": {},
   "outputs": [
    {
     "data": {
      "text/html": [
       "<div>\n",
       "<style scoped>\n",
       "    .dataframe tbody tr th:only-of-type {\n",
       "        vertical-align: middle;\n",
       "    }\n",
       "\n",
       "    .dataframe tbody tr th {\n",
       "        vertical-align: top;\n",
       "    }\n",
       "\n",
       "    .dataframe thead th {\n",
       "        text-align: right;\n",
       "    }\n",
       "</style>\n",
       "<table border=\"1\" class=\"dataframe\">\n",
       "  <thead>\n",
       "    <tr style=\"text-align: right;\">\n",
       "      <th></th>\n",
       "      <th>Education</th>\n",
       "      <th>JoiningYear</th>\n",
       "      <th>City</th>\n",
       "      <th>PaymentTier</th>\n",
       "      <th>Age</th>\n",
       "      <th>Gender</th>\n",
       "      <th>EverBenched</th>\n",
       "      <th>ExperienceInCurrentDomain</th>\n",
       "      <th>LeaveOrNot</th>\n",
       "    </tr>\n",
       "  </thead>\n",
       "  <tbody>\n",
       "    <tr>\n",
       "      <th>0</th>\n",
       "      <td>Masters</td>\n",
       "      <td>2018</td>\n",
       "      <td>New Delhi</td>\n",
       "      <td>3</td>\n",
       "      <td>28</td>\n",
       "      <td>Female</td>\n",
       "      <td>No</td>\n",
       "      <td>2</td>\n",
       "      <td>1</td>\n",
       "    </tr>\n",
       "    <tr>\n",
       "      <th>1</th>\n",
       "      <td>Bachelors</td>\n",
       "      <td>2018</td>\n",
       "      <td>New Delhi</td>\n",
       "      <td>3</td>\n",
       "      <td>36</td>\n",
       "      <td>Female</td>\n",
       "      <td>Yes</td>\n",
       "      <td>2</td>\n",
       "      <td>1</td>\n",
       "    </tr>\n",
       "    <tr>\n",
       "      <th>2</th>\n",
       "      <td>Bachelors</td>\n",
       "      <td>2017</td>\n",
       "      <td>Bangalore</td>\n",
       "      <td>3</td>\n",
       "      <td>28</td>\n",
       "      <td>Male</td>\n",
       "      <td>No</td>\n",
       "      <td>1</td>\n",
       "      <td>0</td>\n",
       "    </tr>\n",
       "    <tr>\n",
       "      <th>3</th>\n",
       "      <td>Bachelors</td>\n",
       "      <td>2014</td>\n",
       "      <td>Bangalore</td>\n",
       "      <td>3</td>\n",
       "      <td>33</td>\n",
       "      <td>Male</td>\n",
       "      <td>No</td>\n",
       "      <td>1</td>\n",
       "      <td>1</td>\n",
       "    </tr>\n",
       "    <tr>\n",
       "      <th>4</th>\n",
       "      <td>Bachelors</td>\n",
       "      <td>2017</td>\n",
       "      <td>Pune</td>\n",
       "      <td>2</td>\n",
       "      <td>24</td>\n",
       "      <td>Male</td>\n",
       "      <td>No</td>\n",
       "      <td>2</td>\n",
       "      <td>1</td>\n",
       "    </tr>\n",
       "  </tbody>\n",
       "</table>\n",
       "</div>"
      ],
      "text/plain": [
       "   Education  JoiningYear       City  PaymentTier  Age  Gender EverBenched  \\\n",
       "0    Masters         2018  New Delhi            3   28  Female          No   \n",
       "1  Bachelors         2018  New Delhi            3   36  Female         Yes   \n",
       "2  Bachelors         2017  Bangalore            3   28    Male          No   \n",
       "3  Bachelors         2014  Bangalore            3   33    Male          No   \n",
       "4  Bachelors         2017       Pune            2   24    Male          No   \n",
       "\n",
       "   ExperienceInCurrentDomain  LeaveOrNot  \n",
       "0                          2           1  \n",
       "1                          2           1  \n",
       "2                          1           0  \n",
       "3                          1           1  \n",
       "4                          2           1  "
      ]
     },
     "metadata": {},
     "output_type": "display_data"
    },
    {
     "name": "stdout",
     "output_type": "stream",
     "text": [
      "Shape of the data: (3200, 9).\n"
     ]
    }
   ],
   "source": [
    "df = (pd\n",
    "      .read_csv(f'data/raw_data/{file_name}.csv',\n",
    "                  low_memory=False)\n",
    "     )\n",
    "\n",
    "display(df.head())\n",
    "print(f\"Shape of the data: {df.shape}.\")"
   ]
  },
  {
   "cell_type": "markdown",
   "id": "504fa06e",
   "metadata": {},
   "source": [
    "# 2. Data Transformation"
   ]
  },
  {
   "cell_type": "code",
   "execution_count": 4,
   "id": "4eebbaa2",
   "metadata": {},
   "outputs": [
    {
     "data": {
      "text/html": [
       "<div>\n",
       "<style scoped>\n",
       "    .dataframe tbody tr th:only-of-type {\n",
       "        vertical-align: middle;\n",
       "    }\n",
       "\n",
       "    .dataframe tbody tr th {\n",
       "        vertical-align: top;\n",
       "    }\n",
       "\n",
       "    .dataframe thead th {\n",
       "        text-align: right;\n",
       "    }\n",
       "</style>\n",
       "<table border=\"1\" class=\"dataframe\">\n",
       "  <thead>\n",
       "    <tr style=\"text-align: right;\">\n",
       "      <th></th>\n",
       "      <th>JoiningYear</th>\n",
       "      <th>PaymentTier</th>\n",
       "      <th>Age</th>\n",
       "      <th>Gender</th>\n",
       "      <th>EverBenched</th>\n",
       "      <th>ExperienceInCurrentDomain</th>\n",
       "      <th>LeaveOrNot</th>\n",
       "      <th>Irrelevant_Predictor1</th>\n",
       "      <th>Irrelevant_Predictor2</th>\n",
       "      <th>Irrelevant_Predictor3</th>\n",
       "    </tr>\n",
       "  </thead>\n",
       "  <tbody>\n",
       "    <tr>\n",
       "      <th>0</th>\n",
       "      <td>2018</td>\n",
       "      <td>3</td>\n",
       "      <td>28</td>\n",
       "      <td>Female</td>\n",
       "      <td>No</td>\n",
       "      <td>2</td>\n",
       "      <td>1</td>\n",
       "      <td>0.824520</td>\n",
       "      <td>4.034387</td>\n",
       "      <td>a1</td>\n",
       "    </tr>\n",
       "    <tr>\n",
       "      <th>1</th>\n",
       "      <td>2018</td>\n",
       "      <td>3</td>\n",
       "      <td>36</td>\n",
       "      <td>Female</td>\n",
       "      <td>Yes</td>\n",
       "      <td>2</td>\n",
       "      <td>1</td>\n",
       "      <td>0.984627</td>\n",
       "      <td>3.445169</td>\n",
       "      <td>a2</td>\n",
       "    </tr>\n",
       "    <tr>\n",
       "      <th>2</th>\n",
       "      <td>2017</td>\n",
       "      <td>3</td>\n",
       "      <td>28</td>\n",
       "      <td>Male</td>\n",
       "      <td>No</td>\n",
       "      <td>1</td>\n",
       "      <td>0</td>\n",
       "      <td>0.893145</td>\n",
       "      <td>3.348348</td>\n",
       "      <td>a2</td>\n",
       "    </tr>\n",
       "    <tr>\n",
       "      <th>3</th>\n",
       "      <td>2014</td>\n",
       "      <td>3</td>\n",
       "      <td>33</td>\n",
       "      <td>Male</td>\n",
       "      <td>No</td>\n",
       "      <td>1</td>\n",
       "      <td>1</td>\n",
       "      <td>0.319647</td>\n",
       "      <td>3.399166</td>\n",
       "      <td>a2</td>\n",
       "    </tr>\n",
       "    <tr>\n",
       "      <th>4</th>\n",
       "      <td>2017</td>\n",
       "      <td>2</td>\n",
       "      <td>24</td>\n",
       "      <td>Male</td>\n",
       "      <td>No</td>\n",
       "      <td>2</td>\n",
       "      <td>1</td>\n",
       "      <td>0.593257</td>\n",
       "      <td>4.171233</td>\n",
       "      <td>a2</td>\n",
       "    </tr>\n",
       "  </tbody>\n",
       "</table>\n",
       "</div>"
      ],
      "text/plain": [
       "   JoiningYear  PaymentTier  Age  Gender EverBenched  \\\n",
       "0         2018            3   28  Female          No   \n",
       "1         2018            3   36  Female         Yes   \n",
       "2         2017            3   28    Male          No   \n",
       "3         2014            3   33    Male          No   \n",
       "4         2017            2   24    Male          No   \n",
       "\n",
       "   ExperienceInCurrentDomain  LeaveOrNot  Irrelevant_Predictor1  \\\n",
       "0                          2           1               0.824520   \n",
       "1                          2           1               0.984627   \n",
       "2                          1           0               0.893145   \n",
       "3                          1           1               0.319647   \n",
       "4                          2           1               0.593257   \n",
       "\n",
       "   Irrelevant_Predictor2 Irrelevant_Predictor3  \n",
       "0               4.034387                    a1  \n",
       "1               3.445169                    a2  \n",
       "2               3.348348                    a2  \n",
       "3               3.399166                    a2  \n",
       "4               4.171233                    a2  "
      ]
     },
     "metadata": {},
     "output_type": "display_data"
    },
    {
     "name": "stdout",
     "output_type": "stream",
     "text": [
      "Shape of the data: (3200, 10).\n"
     ]
    }
   ],
   "source": [
    "(\n",
    "    df\n",
    "    .drop(columns=['Education', 'City'],\n",
    "          inplace=True)\n",
    ")\n",
    "\n",
    "np.random.seed(seed)\n",
    "df = (df\n",
    "      # numerical\n",
    "      .assign(Irrelevant_Predictor1=np.random.uniform(0, 1, size=len(df)))\n",
    "      .assign(Irrelevant_Predictor2=np.random.uniform(0, 5, size=(len(df))))\n",
    "      # categorical\n",
    "      .assign(Irrelevant_Predictor3=np.random.choice(['a1', 'a2'], size=len(df)))\n",
    "     )\n",
    "\n",
    "display(df.head())\n",
    "print(f\"Shape of the data: {df.shape}.\")"
   ]
  },
  {
   "cell_type": "markdown",
   "id": "1d7aba9c",
   "metadata": {},
   "source": [
    "# 3. Train/Test Split"
   ]
  },
  {
   "cell_type": "code",
   "execution_count": 5,
   "id": "2c2f2fd0",
   "metadata": {},
   "outputs": [
    {
     "name": "stdout",
     "output_type": "stream",
     "text": [
      "Shape -> X_train: (2240, 9), y_train: (2240,).\n",
      "Shape -> X_test: (960, 9), y_test: (960,).\n"
     ]
    }
   ],
   "source": [
    "X = df.drop(columns=target_column,\n",
    "            axis=1)\n",
    "\n",
    "y = df[target_column].copy()\n",
    "\n",
    "X_train, X_test, y_train, y_test = train_test_split(X,\n",
    "                                                    y,\n",
    "                                                    test_size=test_size,\n",
    "                                                    random_state=seed,\n",
    "                                                    stratify=y)\n",
    "\n",
    "X_train, X_test, y_train, y_test = (\n",
    "                                        X_train.reset_index(drop=True),\n",
    "                                        X_test.reset_index(drop=True),\n",
    "                                        y_train.reset_index(drop=True),\n",
    "                                        y_test.reset_index(drop=True)\n",
    "                                    )\n",
    "\n",
    "print(f\"Shape -> X_train: {X_train.shape}, y_train: {y_train.shape}.\")\n",
    "print(f\"Shape -> X_test: {X_test.shape}, y_test: {y_test.shape}.\")"
   ]
  },
  {
   "cell_type": "markdown",
   "id": "97fb0957",
   "metadata": {},
   "source": [
    "# 4. Save Prepared Data"
   ]
  },
  {
   "cell_type": "code",
   "execution_count": 6,
   "id": "eaae8f7b",
   "metadata": {},
   "outputs": [
    {
     "name": "stdout",
     "output_type": "stream",
     "text": [
      "X_train.csv is successfully saved!\n",
      "y_train.csv is successfully saved!\n",
      "X_test.csv is successfully saved!\n",
      "y_test.csv is successfully saved!\n"
     ]
    }
   ],
   "source": [
    "(\n",
    "    X_train\n",
    "    .to_csv(f'data/prepared_data/{uc_name}/X_train.csv',\n",
    "            index=False)\n",
    ")\n",
    "\n",
    "print(\"X_train.csv is successfully saved!\")\n",
    "\n",
    "(\n",
    "    y_train\n",
    "    .to_csv(f'data/prepared_data/{uc_name}/y_train.csv',\n",
    "            index=False)\n",
    ")\n",
    "\n",
    "print(\"y_train.csv is successfully saved!\")\n",
    "\n",
    "(\n",
    "    X_test\n",
    "    .to_csv(f'data/prepared_data/{uc_name}/X_test.csv',\n",
    "            index=False)\n",
    ")\n",
    "\n",
    "print(\"X_test.csv is successfully saved!\")\n",
    "\n",
    "(\n",
    "    y_test\n",
    "    .to_csv(f'data/prepared_data/{uc_name}/y_test.csv',\n",
    "            index=False)\n",
    ")\n",
    "\n",
    "print(\"y_test.csv is successfully saved!\")"
   ]
  }
 ],
 "metadata": {
  "kernelspec": {
   "display_name": "Python 3 (ipykernel)",
   "language": "python",
   "name": "python3"
  },
  "language_info": {
   "codemirror_mode": {
    "name": "ipython",
    "version": 3
   },
   "file_extension": ".py",
   "mimetype": "text/x-python",
   "name": "python",
   "nbconvert_exporter": "python",
   "pygments_lexer": "ipython3",
   "version": "3.10.9"
  }
 },
 "nbformat": 4,
 "nbformat_minor": 5
}
