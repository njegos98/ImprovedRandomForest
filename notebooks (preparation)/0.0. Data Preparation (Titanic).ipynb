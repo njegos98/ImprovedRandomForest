{
 "cells": [
  {
   "cell_type": "markdown",
   "id": "54155d34",
   "metadata": {},
   "source": [
    "## --- 0.0. Libraries importing ---"
   ]
  },
  {
   "cell_type": "code",
   "execution_count": 1,
   "id": "b9d63321",
   "metadata": {},
   "outputs": [
    {
     "data": {
      "text/html": [
       "<style>.container { width:100% !important; }</style>"
      ],
      "text/plain": [
       "<IPython.core.display.HTML object>"
      ]
     },
     "metadata": {},
     "output_type": "display_data"
    }
   ],
   "source": [
    "# ignore warnings\n",
    "import warnings\n",
    "warnings.filterwarnings(\"ignore\")\n",
    "\n",
    "# set notebook width to 100%\n",
    "from IPython.core.display import display, HTML\n",
    "display(HTML(\"<style>.container { width:100% !important; }</style>\"))\n",
    "\n",
    "# dataframe manipulation\n",
    "import numpy as np\n",
    "import pandas as pd\n",
    "pd.set_option('display.max_rows', None)\n",
    "pd.set_option('display.max_columns', None)\n",
    "\n",
    "# train test split\n",
    "from sklearn.model_selection import train_test_split\n",
    "\n",
    "# Path\n",
    "import os \n",
    "from pathlib import Path\n",
    "os.chdir(Path(os.getcwd()).parent)"
   ]
  },
  {
   "cell_type": "markdown",
   "id": "3783f3a5",
   "metadata": {},
   "source": [
    "## --- 0.1. Parameters ---"
   ]
  },
  {
   "cell_type": "markdown",
   "id": "d02da777",
   "metadata": {},
   "source": [
    "### ------ 0.1.1. Independent parameters ------"
   ]
  },
  {
   "cell_type": "code",
   "execution_count": 2,
   "id": "0c45dc00",
   "metadata": {},
   "outputs": [],
   "source": [
    "file_name = 'Titanic-Dataset'\n",
    "uc_name = 'titanic'\n",
    "\n",
    "target_column = 'Survived'\n",
    "seed = 1998\n",
    "test_size = 0.3"
   ]
  },
  {
   "cell_type": "markdown",
   "id": "27657c37",
   "metadata": {},
   "source": [
    "# 1. Data Loading"
   ]
  },
  {
   "cell_type": "code",
   "execution_count": 3,
   "id": "22fb227c",
   "metadata": {},
   "outputs": [
    {
     "data": {
      "text/html": [
       "<div>\n",
       "<style scoped>\n",
       "    .dataframe tbody tr th:only-of-type {\n",
       "        vertical-align: middle;\n",
       "    }\n",
       "\n",
       "    .dataframe tbody tr th {\n",
       "        vertical-align: top;\n",
       "    }\n",
       "\n",
       "    .dataframe thead th {\n",
       "        text-align: right;\n",
       "    }\n",
       "</style>\n",
       "<table border=\"1\" class=\"dataframe\">\n",
       "  <thead>\n",
       "    <tr style=\"text-align: right;\">\n",
       "      <th></th>\n",
       "      <th>PassengerId</th>\n",
       "      <th>Survived</th>\n",
       "      <th>Pclass</th>\n",
       "      <th>Name</th>\n",
       "      <th>Sex</th>\n",
       "      <th>Age</th>\n",
       "      <th>SibSp</th>\n",
       "      <th>Parch</th>\n",
       "      <th>Ticket</th>\n",
       "      <th>Fare</th>\n",
       "      <th>Cabin</th>\n",
       "      <th>Embarked</th>\n",
       "    </tr>\n",
       "  </thead>\n",
       "  <tbody>\n",
       "    <tr>\n",
       "      <th>0</th>\n",
       "      <td>329</td>\n",
       "      <td>1</td>\n",
       "      <td>3</td>\n",
       "      <td>Goldsmith, Mrs. Frank John (Emily Alice Brown)</td>\n",
       "      <td>female</td>\n",
       "      <td>31.0</td>\n",
       "      <td>1</td>\n",
       "      <td>1</td>\n",
       "      <td>363291</td>\n",
       "      <td>20.525</td>\n",
       "      <td>NaN</td>\n",
       "      <td>S</td>\n",
       "    </tr>\n",
       "    <tr>\n",
       "      <th>1</th>\n",
       "      <td>121</td>\n",
       "      <td>0</td>\n",
       "      <td>2</td>\n",
       "      <td>Hickman, Mr. Stanley George</td>\n",
       "      <td>male</td>\n",
       "      <td>21.0</td>\n",
       "      <td>2</td>\n",
       "      <td>0</td>\n",
       "      <td>S.O.C. 14879</td>\n",
       "      <td>73.500</td>\n",
       "      <td>NaN</td>\n",
       "      <td>S</td>\n",
       "    </tr>\n",
       "    <tr>\n",
       "      <th>2</th>\n",
       "      <td>526</td>\n",
       "      <td>0</td>\n",
       "      <td>3</td>\n",
       "      <td>Farrell, Mr. James</td>\n",
       "      <td>male</td>\n",
       "      <td>40.5</td>\n",
       "      <td>0</td>\n",
       "      <td>0</td>\n",
       "      <td>367232</td>\n",
       "      <td>7.750</td>\n",
       "      <td>NaN</td>\n",
       "      <td>Q</td>\n",
       "    </tr>\n",
       "    <tr>\n",
       "      <th>3</th>\n",
       "      <td>291</td>\n",
       "      <td>1</td>\n",
       "      <td>1</td>\n",
       "      <td>Barber, Miss. Ellen \"Nellie\"</td>\n",
       "      <td>female</td>\n",
       "      <td>26.0</td>\n",
       "      <td>0</td>\n",
       "      <td>0</td>\n",
       "      <td>19877</td>\n",
       "      <td>78.850</td>\n",
       "      <td>NaN</td>\n",
       "      <td>S</td>\n",
       "    </tr>\n",
       "    <tr>\n",
       "      <th>4</th>\n",
       "      <td>721</td>\n",
       "      <td>1</td>\n",
       "      <td>2</td>\n",
       "      <td>Harper, Miss. Annie Jessie \"Nina\"</td>\n",
       "      <td>female</td>\n",
       "      <td>6.0</td>\n",
       "      <td>0</td>\n",
       "      <td>1</td>\n",
       "      <td>248727</td>\n",
       "      <td>33.000</td>\n",
       "      <td>NaN</td>\n",
       "      <td>S</td>\n",
       "    </tr>\n",
       "  </tbody>\n",
       "</table>\n",
       "</div>"
      ],
      "text/plain": [
       "   PassengerId  Survived  Pclass  \\\n",
       "0          329         1       3   \n",
       "1          121         0       2   \n",
       "2          526         0       3   \n",
       "3          291         1       1   \n",
       "4          721         1       2   \n",
       "\n",
       "                                             Name     Sex   Age  SibSp  Parch  \\\n",
       "0  Goldsmith, Mrs. Frank John (Emily Alice Brown)  female  31.0      1      1   \n",
       "1                     Hickman, Mr. Stanley George    male  21.0      2      0   \n",
       "2                              Farrell, Mr. James    male  40.5      0      0   \n",
       "3                    Barber, Miss. Ellen \"Nellie\"  female  26.0      0      0   \n",
       "4               Harper, Miss. Annie Jessie \"Nina\"  female   6.0      0      1   \n",
       "\n",
       "         Ticket    Fare Cabin Embarked  \n",
       "0        363291  20.525   NaN        S  \n",
       "1  S.O.C. 14879  73.500   NaN        S  \n",
       "2        367232   7.750   NaN        Q  \n",
       "3         19877  78.850   NaN        S  \n",
       "4        248727  33.000   NaN        S  "
      ]
     },
     "metadata": {},
     "output_type": "display_data"
    },
    {
     "name": "stdout",
     "output_type": "stream",
     "text": [
      "Shape of the data: (684, 12).\n"
     ]
    }
   ],
   "source": [
    "df = (pd\n",
    "      .read_csv(f'data/raw_data/{file_name}.csv',\n",
    "                  low_memory=False)\n",
    "     )\n",
    "\n",
    "display(df.head())\n",
    "print(f\"Shape of the data: {df.shape}.\")"
   ]
  },
  {
   "cell_type": "markdown",
   "id": "504fa06e",
   "metadata": {},
   "source": [
    "# 2. Data Transformation"
   ]
  },
  {
   "cell_type": "code",
   "execution_count": 4,
   "id": "4eebbaa2",
   "metadata": {},
   "outputs": [
    {
     "data": {
      "text/html": [
       "<div>\n",
       "<style scoped>\n",
       "    .dataframe tbody tr th:only-of-type {\n",
       "        vertical-align: middle;\n",
       "    }\n",
       "\n",
       "    .dataframe tbody tr th {\n",
       "        vertical-align: top;\n",
       "    }\n",
       "\n",
       "    .dataframe thead th {\n",
       "        text-align: right;\n",
       "    }\n",
       "</style>\n",
       "<table border=\"1\" class=\"dataframe\">\n",
       "  <thead>\n",
       "    <tr style=\"text-align: right;\">\n",
       "      <th></th>\n",
       "      <th>Survived</th>\n",
       "      <th>Pclass</th>\n",
       "      <th>Sex</th>\n",
       "      <th>Age</th>\n",
       "      <th>SibSp</th>\n",
       "      <th>Parch</th>\n",
       "      <th>Fare</th>\n",
       "    </tr>\n",
       "  </thead>\n",
       "  <tbody>\n",
       "    <tr>\n",
       "      <th>0</th>\n",
       "      <td>1</td>\n",
       "      <td>3</td>\n",
       "      <td>Female</td>\n",
       "      <td>31.0</td>\n",
       "      <td>1</td>\n",
       "      <td>1</td>\n",
       "      <td>20.525</td>\n",
       "    </tr>\n",
       "    <tr>\n",
       "      <th>1</th>\n",
       "      <td>0</td>\n",
       "      <td>2</td>\n",
       "      <td>Male</td>\n",
       "      <td>21.0</td>\n",
       "      <td>2</td>\n",
       "      <td>0</td>\n",
       "      <td>73.500</td>\n",
       "    </tr>\n",
       "    <tr>\n",
       "      <th>2</th>\n",
       "      <td>0</td>\n",
       "      <td>3</td>\n",
       "      <td>Male</td>\n",
       "      <td>40.5</td>\n",
       "      <td>0</td>\n",
       "      <td>0</td>\n",
       "      <td>7.750</td>\n",
       "    </tr>\n",
       "    <tr>\n",
       "      <th>3</th>\n",
       "      <td>1</td>\n",
       "      <td>1</td>\n",
       "      <td>Female</td>\n",
       "      <td>26.0</td>\n",
       "      <td>0</td>\n",
       "      <td>0</td>\n",
       "      <td>78.850</td>\n",
       "    </tr>\n",
       "    <tr>\n",
       "      <th>4</th>\n",
       "      <td>1</td>\n",
       "      <td>2</td>\n",
       "      <td>Female</td>\n",
       "      <td>6.0</td>\n",
       "      <td>0</td>\n",
       "      <td>1</td>\n",
       "      <td>33.000</td>\n",
       "    </tr>\n",
       "  </tbody>\n",
       "</table>\n",
       "</div>"
      ],
      "text/plain": [
       "   Survived  Pclass     Sex   Age  SibSp  Parch    Fare\n",
       "0         1       3  Female  31.0      1      1  20.525\n",
       "1         0       2    Male  21.0      2      0  73.500\n",
       "2         0       3    Male  40.5      0      0   7.750\n",
       "3         1       1  Female  26.0      0      0  78.850\n",
       "4         1       2  Female   6.0      0      1  33.000"
      ]
     },
     "metadata": {},
     "output_type": "display_data"
    },
    {
     "name": "stdout",
     "output_type": "stream",
     "text": [
      "Shape of the data: (684, 7).\n"
     ]
    }
   ],
   "source": [
    "(\n",
    "    df\n",
    "    .drop(columns=[\n",
    "                    'PassengerId',\n",
    "                    'Name',\n",
    "                    'Ticket',\n",
    "                    'Embarked',\n",
    "                    'Cabin'\n",
    "                  ],\n",
    "          inplace=True)\n",
    ")\n",
    "\n",
    "(\n",
    "    df['Sex']\n",
    "    .replace(to_replace={'male':'Male', 'female':'Female'},\n",
    "             inplace=True)\n",
    ")\n",
    "\n",
    "display(df.head())\n",
    "print(f\"Shape of the data: {df.shape}.\")"
   ]
  },
  {
   "cell_type": "markdown",
   "id": "1d7aba9c",
   "metadata": {},
   "source": [
    "# 3. Train/Test Split"
   ]
  },
  {
   "cell_type": "code",
   "execution_count": 5,
   "id": "2c2f2fd0",
   "metadata": {},
   "outputs": [
    {
     "name": "stdout",
     "output_type": "stream",
     "text": [
      "Shape -> X_train: (478, 6), y_train: (478,).\n",
      "Shape -> X_test: (206, 6), y_test: (206,).\n"
     ]
    }
   ],
   "source": [
    "X = df.drop(columns=target_column,\n",
    "            axis=1)\n",
    "\n",
    "y = df[target_column].copy()\n",
    "\n",
    "X_train, X_test, y_train, y_test = train_test_split(X,\n",
    "                                                    y,\n",
    "                                                    test_size=test_size,\n",
    "                                                    random_state=seed,\n",
    "                                                    stratify=y)\n",
    "\n",
    "X_train, X_test, y_train, y_test = (\n",
    "                                        X_train.reset_index(drop=True),\n",
    "                                        X_test.reset_index(drop=True),\n",
    "                                        y_train.reset_index(drop=True),\n",
    "                                        y_test.reset_index(drop=True)\n",
    "                                    )\n",
    "\n",
    "np.random.seed(seed)\n",
    "(fare_outliers_train, age_outliers_train, parch_outliers_train) = np.random.choice(np.arange(len(X_train)), size=(3, 20))\n",
    "(fare_outliers_test, age_outliers_test, parch_outliers_test) = np.random.choice(np.arange(len(X_test)), size=(3, 9))\n",
    "\n",
    "X_train.loc[fare_outliers_train, 'Fare'] = (3500 + np.random.uniform(0, 500, 20))\n",
    "X_train.loc[age_outliers_train, 'Age'] = (120 + np.random.choice(a=np.arange(20), size=20)) \n",
    "X_train.loc[parch_outliers_train, 'Parch'] = (20 + np.random.choice(a=np.arange(20), size=20))\n",
    "\n",
    "X_test.loc[fare_outliers_test, 'Fare'] = (3500 + np.random.uniform(0, 500, 9))\n",
    "X_test.loc[age_outliers_test, 'Age'] = (120 + np.random.choice(a=np.arange(20), size=9)) \n",
    "X_test.loc[parch_outliers_test, 'Parch'] = (20 + np.random.choice(a=np.arange(20), size=9))\n",
    "\n",
    "print(f\"Shape -> X_train: {X_train.shape}, y_train: {y_train.shape}.\")\n",
    "print(f\"Shape -> X_test: {X_test.shape}, y_test: {y_test.shape}.\")"
   ]
  },
  {
   "cell_type": "markdown",
   "id": "97fb0957",
   "metadata": {},
   "source": [
    "# 4. Save Prepared Data"
   ]
  },
  {
   "cell_type": "code",
   "execution_count": 6,
   "id": "eaae8f7b",
   "metadata": {},
   "outputs": [
    {
     "name": "stdout",
     "output_type": "stream",
     "text": [
      "X_train.csv is successfully saved!\n",
      "y_train.csv is successfully saved!\n",
      "X_test.csv is successfully saved!\n",
      "y_test.csv is successfully saved!\n"
     ]
    }
   ],
   "source": [
    "(\n",
    "    X_train\n",
    "    .to_csv(f'data/prepared_data/{uc_name}/X_train.csv',\n",
    "            index=False)\n",
    ")\n",
    "\n",
    "print(\"X_train.csv is successfully saved!\")\n",
    "\n",
    "(\n",
    "    y_train\n",
    "    .to_csv(f'data/prepared_data/{uc_name}/y_train.csv',\n",
    "            index=False)\n",
    ")\n",
    "\n",
    "print(\"y_train.csv is successfully saved!\")\n",
    "\n",
    "(\n",
    "    X_test\n",
    "    .to_csv(f'data/prepared_data/{uc_name}/X_test.csv',\n",
    "            index=False)\n",
    ")\n",
    "\n",
    "print(\"X_test.csv is successfully saved!\")\n",
    "\n",
    "(\n",
    "    y_test\n",
    "    .to_csv(f'data/prepared_data/{uc_name}/y_test.csv',\n",
    "            index=False)\n",
    ")\n",
    "\n",
    "print(\"y_test.csv is successfully saved!\")"
   ]
  }
 ],
 "metadata": {
  "kernelspec": {
   "display_name": "Python 3 (ipykernel)",
   "language": "python",
   "name": "python3"
  },
  "language_info": {
   "codemirror_mode": {
    "name": "ipython",
    "version": 3
   },
   "file_extension": ".py",
   "mimetype": "text/x-python",
   "name": "python",
   "nbconvert_exporter": "python",
   "pygments_lexer": "ipython3",
   "version": "3.10.9"
  }
 },
 "nbformat": 4,
 "nbformat_minor": 5
}
